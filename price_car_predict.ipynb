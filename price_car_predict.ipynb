{
  "nbformat": 4,
  "nbformat_minor": 0,
  "metadata": {
    "colab": {
      "name": "price_car_predict.ipynb",
      "provenance": [],
      "collapsed_sections": [],
      "include_colab_link": true
    },
    "kernelspec": {
      "name": "python3",
      "display_name": "Python 3"
    },
    "language_info": {
      "name": "python"
    }
  },
  "cells": [
    {
      "cell_type": "markdown",
      "metadata": {
        "id": "view-in-github",
        "colab_type": "text"
      },
      "source": [
        "<a href=\"https://colab.research.google.com/github/ycozco/ia_unsa_dataset_2022a/blob/main/price_car_predict.ipynb\" target=\"_parent\"><img src=\"https://colab.research.google.com/assets/colab-badge.svg\" alt=\"Open In Colab\"/></a>"
      ]
    },
    {
      "cell_type": "code",
      "execution_count": null,
      "metadata": {
        "id": "VDMWBfgcMNPp"
      },
      "outputs": [],
      "source": [
        "import pandas as pd\n",
        "import matplotlib.pyplot as plt\n",
        "import seaborn as sns\n",
        "from sklearn.model_selection import train_test_split\n",
        "from sklearn.linear_model import LinearRegression\n",
        "from sklearn.linear_model import Lasso\n",
        "from sklearn import metrics"
      ]
    },
    {
      "cell_type": "code",
      "source": [
        "from google.colab import drive\n",
        "drive.mount('/content/drive')"
      ],
      "metadata": {
        "colab": {
          "base_uri": "https://localhost:8080/"
        },
        "id": "zstinPpWP1LW",
        "outputId": "73c3308a-830e-4b42-9508-c989e7e13bfb"
      },
      "execution_count": null,
      "outputs": [
        {
          "output_type": "stream",
          "name": "stdout",
          "text": [
            "Drive already mounted at /content/drive; to attempt to forcibly remount, call drive.mount(\"/content/drive\", force_remount=True).\n"
          ]
        }
      ]
    },
    {
      "cell_type": "markdown",
      "source": [
        "Data Collection and process"
      ],
      "metadata": {
        "id": "VgtV6xUdQ6ZS"
      }
    },
    {
      "cell_type": "code",
      "source": [
        "#Cargar datos del archivo csv a pandas dataframe\n",
        "car_dataset = pd.read_csv('/content/drive/MyDrive/ia_dataset/data_cars.csv')"
      ],
      "metadata": {
        "id": "Pt3yHG-4Q-Tl"
      },
      "execution_count": null,
      "outputs": []
    },
    {
      "cell_type": "code",
      "source": [
        "# Inspeccion de los 5 primeras filas\n",
        "car_dataset.head()"
      ],
      "metadata": {
        "colab": {
          "base_uri": "https://localhost:8080/",
          "height": 206
        },
        "id": "fubcwSAARP2U",
        "outputId": "73197bb9-d21a-4cae-f257-8567633182a0"
      },
      "execution_count": null,
      "outputs": [
        {
          "output_type": "execute_result",
          "data": {
            "text/plain": [
              "   door_num fuel_type   hp  location  mileage  price    ref_num       seller  \\\n",
              "0         5  gasolina   60    Málaga   170000   1450  426875509  Profesional   \n",
              "1         5   híbrido  108    Madrid    14950  23390  429436719  Profesional   \n",
              "2         5    diesel  165    Cuenca   260000   8990  426571125  Profesional   \n",
              "3         5    diesel  313  Alicante   235000  21900  418805767   Particular   \n",
              "4         5  gasolina   68      Jaén    74000   1800  428978271   Particular   \n",
              "\n",
              "                                            title transmission  year  \n",
              "0                                  Renault - Clio       manual  2000  \n",
              "1   RENAULT - Zoe Intens 80 kW R110 Bateria 50kWh   automático  2020  \n",
              "2  OPEL - Zafira Tourer 2.0 CDTi 165 CV Selective       manual  2012  \n",
              "3                                   Bmw - Serie 7   automático  2013  \n",
              "4                                   Peugeot - 107       manual  2007  "
            ],
            "text/html": [
              "\n",
              "  <div id=\"df-bf1d9408-4b17-44d8-8393-9d5d638f9dc5\">\n",
              "    <div class=\"colab-df-container\">\n",
              "      <div>\n",
              "<style scoped>\n",
              "    .dataframe tbody tr th:only-of-type {\n",
              "        vertical-align: middle;\n",
              "    }\n",
              "\n",
              "    .dataframe tbody tr th {\n",
              "        vertical-align: top;\n",
              "    }\n",
              "\n",
              "    .dataframe thead th {\n",
              "        text-align: right;\n",
              "    }\n",
              "</style>\n",
              "<table border=\"1\" class=\"dataframe\">\n",
              "  <thead>\n",
              "    <tr style=\"text-align: right;\">\n",
              "      <th></th>\n",
              "      <th>door_num</th>\n",
              "      <th>fuel_type</th>\n",
              "      <th>hp</th>\n",
              "      <th>location</th>\n",
              "      <th>mileage</th>\n",
              "      <th>price</th>\n",
              "      <th>ref_num</th>\n",
              "      <th>seller</th>\n",
              "      <th>title</th>\n",
              "      <th>transmission</th>\n",
              "      <th>year</th>\n",
              "    </tr>\n",
              "  </thead>\n",
              "  <tbody>\n",
              "    <tr>\n",
              "      <th>0</th>\n",
              "      <td>5</td>\n",
              "      <td>gasolina</td>\n",
              "      <td>60</td>\n",
              "      <td>Málaga</td>\n",
              "      <td>170000</td>\n",
              "      <td>1450</td>\n",
              "      <td>426875509</td>\n",
              "      <td>Profesional</td>\n",
              "      <td>Renault - Clio</td>\n",
              "      <td>manual</td>\n",
              "      <td>2000</td>\n",
              "    </tr>\n",
              "    <tr>\n",
              "      <th>1</th>\n",
              "      <td>5</td>\n",
              "      <td>híbrido</td>\n",
              "      <td>108</td>\n",
              "      <td>Madrid</td>\n",
              "      <td>14950</td>\n",
              "      <td>23390</td>\n",
              "      <td>429436719</td>\n",
              "      <td>Profesional</td>\n",
              "      <td>RENAULT - Zoe Intens 80 kW R110 Bateria 50kWh</td>\n",
              "      <td>automático</td>\n",
              "      <td>2020</td>\n",
              "    </tr>\n",
              "    <tr>\n",
              "      <th>2</th>\n",
              "      <td>5</td>\n",
              "      <td>diesel</td>\n",
              "      <td>165</td>\n",
              "      <td>Cuenca</td>\n",
              "      <td>260000</td>\n",
              "      <td>8990</td>\n",
              "      <td>426571125</td>\n",
              "      <td>Profesional</td>\n",
              "      <td>OPEL - Zafira Tourer 2.0 CDTi 165 CV Selective</td>\n",
              "      <td>manual</td>\n",
              "      <td>2012</td>\n",
              "    </tr>\n",
              "    <tr>\n",
              "      <th>3</th>\n",
              "      <td>5</td>\n",
              "      <td>diesel</td>\n",
              "      <td>313</td>\n",
              "      <td>Alicante</td>\n",
              "      <td>235000</td>\n",
              "      <td>21900</td>\n",
              "      <td>418805767</td>\n",
              "      <td>Particular</td>\n",
              "      <td>Bmw - Serie 7</td>\n",
              "      <td>automático</td>\n",
              "      <td>2013</td>\n",
              "    </tr>\n",
              "    <tr>\n",
              "      <th>4</th>\n",
              "      <td>5</td>\n",
              "      <td>gasolina</td>\n",
              "      <td>68</td>\n",
              "      <td>Jaén</td>\n",
              "      <td>74000</td>\n",
              "      <td>1800</td>\n",
              "      <td>428978271</td>\n",
              "      <td>Particular</td>\n",
              "      <td>Peugeot - 107</td>\n",
              "      <td>manual</td>\n",
              "      <td>2007</td>\n",
              "    </tr>\n",
              "  </tbody>\n",
              "</table>\n",
              "</div>\n",
              "      <button class=\"colab-df-convert\" onclick=\"convertToInteractive('df-bf1d9408-4b17-44d8-8393-9d5d638f9dc5')\"\n",
              "              title=\"Convert this dataframe to an interactive table.\"\n",
              "              style=\"display:none;\">\n",
              "        \n",
              "  <svg xmlns=\"http://www.w3.org/2000/svg\" height=\"24px\"viewBox=\"0 0 24 24\"\n",
              "       width=\"24px\">\n",
              "    <path d=\"M0 0h24v24H0V0z\" fill=\"none\"/>\n",
              "    <path d=\"M18.56 5.44l.94 2.06.94-2.06 2.06-.94-2.06-.94-.94-2.06-.94 2.06-2.06.94zm-11 1L8.5 8.5l.94-2.06 2.06-.94-2.06-.94L8.5 2.5l-.94 2.06-2.06.94zm10 10l.94 2.06.94-2.06 2.06-.94-2.06-.94-.94-2.06-.94 2.06-2.06.94z\"/><path d=\"M17.41 7.96l-1.37-1.37c-.4-.4-.92-.59-1.43-.59-.52 0-1.04.2-1.43.59L10.3 9.45l-7.72 7.72c-.78.78-.78 2.05 0 2.83L4 21.41c.39.39.9.59 1.41.59.51 0 1.02-.2 1.41-.59l7.78-7.78 2.81-2.81c.8-.78.8-2.07 0-2.86zM5.41 20L4 18.59l7.72-7.72 1.47 1.35L5.41 20z\"/>\n",
              "  </svg>\n",
              "      </button>\n",
              "      \n",
              "  <style>\n",
              "    .colab-df-container {\n",
              "      display:flex;\n",
              "      flex-wrap:wrap;\n",
              "      gap: 12px;\n",
              "    }\n",
              "\n",
              "    .colab-df-convert {\n",
              "      background-color: #E8F0FE;\n",
              "      border: none;\n",
              "      border-radius: 50%;\n",
              "      cursor: pointer;\n",
              "      display: none;\n",
              "      fill: #1967D2;\n",
              "      height: 32px;\n",
              "      padding: 0 0 0 0;\n",
              "      width: 32px;\n",
              "    }\n",
              "\n",
              "    .colab-df-convert:hover {\n",
              "      background-color: #E2EBFA;\n",
              "      box-shadow: 0px 1px 2px rgba(60, 64, 67, 0.3), 0px 1px 3px 1px rgba(60, 64, 67, 0.15);\n",
              "      fill: #174EA6;\n",
              "    }\n",
              "\n",
              "    [theme=dark] .colab-df-convert {\n",
              "      background-color: #3B4455;\n",
              "      fill: #D2E3FC;\n",
              "    }\n",
              "\n",
              "    [theme=dark] .colab-df-convert:hover {\n",
              "      background-color: #434B5C;\n",
              "      box-shadow: 0px 1px 3px 1px rgba(0, 0, 0, 0.15);\n",
              "      filter: drop-shadow(0px 1px 2px rgba(0, 0, 0, 0.3));\n",
              "      fill: #FFFFFF;\n",
              "    }\n",
              "  </style>\n",
              "\n",
              "      <script>\n",
              "        const buttonEl =\n",
              "          document.querySelector('#df-bf1d9408-4b17-44d8-8393-9d5d638f9dc5 button.colab-df-convert');\n",
              "        buttonEl.style.display =\n",
              "          google.colab.kernel.accessAllowed ? 'block' : 'none';\n",
              "\n",
              "        async function convertToInteractive(key) {\n",
              "          const element = document.querySelector('#df-bf1d9408-4b17-44d8-8393-9d5d638f9dc5');\n",
              "          const dataTable =\n",
              "            await google.colab.kernel.invokeFunction('convertToInteractive',\n",
              "                                                     [key], {});\n",
              "          if (!dataTable) return;\n",
              "\n",
              "          const docLinkHtml = 'Like what you see? Visit the ' +\n",
              "            '<a target=\"_blank\" href=https://colab.research.google.com/notebooks/data_table.ipynb>data table notebook</a>'\n",
              "            + ' to learn more about interactive tables.';\n",
              "          element.innerHTML = '';\n",
              "          dataTable['output_type'] = 'display_data';\n",
              "          await google.colab.output.renderOutput(dataTable, element);\n",
              "          const docLink = document.createElement('div');\n",
              "          docLink.innerHTML = docLinkHtml;\n",
              "          element.appendChild(docLink);\n",
              "        }\n",
              "      </script>\n",
              "    </div>\n",
              "  </div>\n",
              "  "
            ]
          },
          "metadata": {},
          "execution_count": 213
        }
      ]
    },
    {
      "cell_type": "code",
      "source": [
        "#Revisamos el numero de filas , columnas\n",
        "car_dataset.shape"
      ],
      "metadata": {
        "colab": {
          "base_uri": "https://localhost:8080/"
        },
        "id": "E8zupqixRjCp",
        "outputId": "2902ae07-ca3d-4e26-8749-759303ccc424"
      },
      "execution_count": null,
      "outputs": [
        {
          "output_type": "execute_result",
          "data": {
            "text/plain": [
              "(6489, 11)"
            ]
          },
          "metadata": {},
          "execution_count": 214
        }
      ]
    },
    {
      "cell_type": "code",
      "source": [
        "car_dataset.info()"
      ],
      "metadata": {
        "colab": {
          "base_uri": "https://localhost:8080/"
        },
        "id": "UT8GgU0FR8gI",
        "outputId": "8fe48fdd-46ca-4234-cfa8-c947822ab667"
      },
      "execution_count": null,
      "outputs": [
        {
          "output_type": "stream",
          "name": "stdout",
          "text": [
            "<class 'pandas.core.frame.DataFrame'>\n",
            "RangeIndex: 6489 entries, 0 to 6488\n",
            "Data columns (total 11 columns):\n",
            " #   Column        Non-Null Count  Dtype \n",
            "---  ------        --------------  ----- \n",
            " 0   door_num      6489 non-null   int64 \n",
            " 1   fuel_type     6489 non-null   object\n",
            " 2   hp            6489 non-null   int64 \n",
            " 3   location      6489 non-null   object\n",
            " 4   mileage       6489 non-null   int64 \n",
            " 5   price         6489 non-null   int64 \n",
            " 6   ref_num       6489 non-null   int64 \n",
            " 7   seller        6489 non-null   object\n",
            " 8   title         6486 non-null   object\n",
            " 9   transmission  6489 non-null   object\n",
            " 10  year          6489 non-null   int64 \n",
            "dtypes: int64(6), object(5)\n",
            "memory usage: 557.8+ KB\n"
          ]
        }
      ]
    },
    {
      "cell_type": "code",
      "source": [
        "# Revisando la cantidad de datos faltantes\n",
        "car_dataset.isnull().sum()"
      ],
      "metadata": {
        "colab": {
          "base_uri": "https://localhost:8080/"
        },
        "id": "C9hPaicDSKeJ",
        "outputId": "fc2b618c-00fd-4d05-f94e-9fcb78fe94f4"
      },
      "execution_count": null,
      "outputs": [
        {
          "output_type": "execute_result",
          "data": {
            "text/plain": [
              "door_num        0\n",
              "fuel_type       0\n",
              "hp              0\n",
              "location        0\n",
              "mileage         0\n",
              "price           0\n",
              "ref_num         0\n",
              "seller          0\n",
              "title           3\n",
              "transmission    0\n",
              "year            0\n",
              "dtype: int64"
            ]
          },
          "metadata": {},
          "execution_count": 216
        }
      ]
    },
    {
      "cell_type": "markdown",
      "source": [
        "title missing = 4"
      ],
      "metadata": {
        "id": "ZKrCQ3GoSWiX"
      }
    },
    {
      "cell_type": "code",
      "source": [
        "#Revisando la distribucion por categoria de nuestros datos\n",
        "print(car_dataset.fuel_type.value_counts())\n",
        "print(car_dataset.seller.value_counts())\n",
        "print(car_dataset.transmission.value_counts())\n"
      ],
      "metadata": {
        "colab": {
          "base_uri": "https://localhost:8080/"
        },
        "id": "YGWboFMxSgnn",
        "outputId": "01787bb7-f7a2-4db6-f7ca-7a45fcd28bbc"
      },
      "execution_count": null,
      "outputs": [
        {
          "output_type": "stream",
          "name": "stdout",
          "text": [
            "diesel       3701\n",
            "gasolina     2483\n",
            "híbrido       225\n",
            "Otro           65\n",
            "eléctrico       9\n",
            "GLP             6\n",
            "Name: fuel_type, dtype: int64\n",
            "Profesional    5266\n",
            "Particular     1223\n",
            "Name: seller, dtype: int64\n",
            "manual        4386\n",
            "automático    2103\n",
            "Name: transmission, dtype: int64\n"
          ]
        }
      ]
    },
    {
      "cell_type": "markdown",
      "source": [
        "Encoding categorical data"
      ],
      "metadata": {
        "id": "jdzGghpkTY6e"
      }
    },
    {
      "cell_type": "code",
      "source": [
        "# codificando \"fuel_type\" column\n",
        "car_dataset.replace({'fuel_type':{'':0, 'diesel':1, 'eléctrico':2,'gasolina':3,'GLP':4,'híbrido':5,'Otro':6}},inplace=True)\n",
        "# codificando \"seller\" column\n",
        "car_dataset.replace({'seller':{'Profesional':0,'Particular':1}},inplace=True)\n",
        "# codificando \"transsmision\" column\n",
        "car_dataset.replace({'transmission':{'manual':0,'automático':1}},inplace=True)\n",
        "# codificando \"location\" column\n",
        "car_dataset.replace({'location':{'Álava':0,'Albacete':1,'Alicante':2,'Almería':3,'Asturias':4,'Ávila':5,'Badajoz':6,'Baleares':7,'Barcelona':8,\n",
        "                                 'Burgos':9,'Cáceres':10,'Cádiz':11,'Cantabria':12,'Castellón':13,'Ciudad Real':14,'Córdoba':15,'Cuenca':16,\n",
        "                                 'Girona':17,'Granada':18,'Guadalajara':19,'Guipúzcoa':20,'Huelva':21,'Huesca':22,'Jaén':23,'La Coruña':24,\n",
        "                                 'La Rioja':25,'Las Palmas':26,'León':27,'Lleida':28,'Lugo':29,'Madrid':30,'Málaga':31,'Melilla':32,'Murcia':33,\n",
        "                                 'Navarra':34,'Ourense':35,'Palencia':36,'Pontevedra':37,'Salamanca':38,'Segovia':39,'Sevilla':40,'Soria':41,\n",
        "                                 'Tarragona':42,'Tenerife':42,'Teruel':43,'Toledo':44,'Valencia':45,'Valladolid':46,'Vizcaya':47,'Zamora':48,'Zaragoza':49,'':50}},inplace=True)\n"
      ],
      "metadata": {
        "id": "n2aaHld4THSH"
      },
      "execution_count": null,
      "outputs": []
    },
    {
      "cell_type": "markdown",
      "source": [
        "Verificacion despues de la codificacion"
      ],
      "metadata": {
        "id": "c3bu3WzpatOl"
      }
    },
    {
      "cell_type": "code",
      "source": [
        "car_dataset.head()"
      ],
      "metadata": {
        "colab": {
          "base_uri": "https://localhost:8080/",
          "height": 206
        },
        "id": "9ny9NN40VNcl",
        "outputId": "d11b4d28-85cb-4515-d767-c67dd1df1c22"
      },
      "execution_count": null,
      "outputs": [
        {
          "output_type": "execute_result",
          "data": {
            "text/plain": [
              "   door_num  fuel_type   hp  location  mileage  price    ref_num  seller  \\\n",
              "0         5          3   60        31   170000   1450  426875509       0   \n",
              "1         5          5  108        30    14950  23390  429436719       0   \n",
              "2         5          1  165        16   260000   8990  426571125       0   \n",
              "3         5          1  313         2   235000  21900  418805767       1   \n",
              "4         5          3   68        23    74000   1800  428978271       1   \n",
              "\n",
              "                                            title  transmission  year  \n",
              "0                                  Renault - Clio             0  2000  \n",
              "1   RENAULT - Zoe Intens 80 kW R110 Bateria 50kWh             1  2020  \n",
              "2  OPEL - Zafira Tourer 2.0 CDTi 165 CV Selective             0  2012  \n",
              "3                                   Bmw - Serie 7             1  2013  \n",
              "4                                   Peugeot - 107             0  2007  "
            ],
            "text/html": [
              "\n",
              "  <div id=\"df-d6e56aa7-496a-4abb-be4b-3de3926b999b\">\n",
              "    <div class=\"colab-df-container\">\n",
              "      <div>\n",
              "<style scoped>\n",
              "    .dataframe tbody tr th:only-of-type {\n",
              "        vertical-align: middle;\n",
              "    }\n",
              "\n",
              "    .dataframe tbody tr th {\n",
              "        vertical-align: top;\n",
              "    }\n",
              "\n",
              "    .dataframe thead th {\n",
              "        text-align: right;\n",
              "    }\n",
              "</style>\n",
              "<table border=\"1\" class=\"dataframe\">\n",
              "  <thead>\n",
              "    <tr style=\"text-align: right;\">\n",
              "      <th></th>\n",
              "      <th>door_num</th>\n",
              "      <th>fuel_type</th>\n",
              "      <th>hp</th>\n",
              "      <th>location</th>\n",
              "      <th>mileage</th>\n",
              "      <th>price</th>\n",
              "      <th>ref_num</th>\n",
              "      <th>seller</th>\n",
              "      <th>title</th>\n",
              "      <th>transmission</th>\n",
              "      <th>year</th>\n",
              "    </tr>\n",
              "  </thead>\n",
              "  <tbody>\n",
              "    <tr>\n",
              "      <th>0</th>\n",
              "      <td>5</td>\n",
              "      <td>3</td>\n",
              "      <td>60</td>\n",
              "      <td>31</td>\n",
              "      <td>170000</td>\n",
              "      <td>1450</td>\n",
              "      <td>426875509</td>\n",
              "      <td>0</td>\n",
              "      <td>Renault - Clio</td>\n",
              "      <td>0</td>\n",
              "      <td>2000</td>\n",
              "    </tr>\n",
              "    <tr>\n",
              "      <th>1</th>\n",
              "      <td>5</td>\n",
              "      <td>5</td>\n",
              "      <td>108</td>\n",
              "      <td>30</td>\n",
              "      <td>14950</td>\n",
              "      <td>23390</td>\n",
              "      <td>429436719</td>\n",
              "      <td>0</td>\n",
              "      <td>RENAULT - Zoe Intens 80 kW R110 Bateria 50kWh</td>\n",
              "      <td>1</td>\n",
              "      <td>2020</td>\n",
              "    </tr>\n",
              "    <tr>\n",
              "      <th>2</th>\n",
              "      <td>5</td>\n",
              "      <td>1</td>\n",
              "      <td>165</td>\n",
              "      <td>16</td>\n",
              "      <td>260000</td>\n",
              "      <td>8990</td>\n",
              "      <td>426571125</td>\n",
              "      <td>0</td>\n",
              "      <td>OPEL - Zafira Tourer 2.0 CDTi 165 CV Selective</td>\n",
              "      <td>0</td>\n",
              "      <td>2012</td>\n",
              "    </tr>\n",
              "    <tr>\n",
              "      <th>3</th>\n",
              "      <td>5</td>\n",
              "      <td>1</td>\n",
              "      <td>313</td>\n",
              "      <td>2</td>\n",
              "      <td>235000</td>\n",
              "      <td>21900</td>\n",
              "      <td>418805767</td>\n",
              "      <td>1</td>\n",
              "      <td>Bmw - Serie 7</td>\n",
              "      <td>1</td>\n",
              "      <td>2013</td>\n",
              "    </tr>\n",
              "    <tr>\n",
              "      <th>4</th>\n",
              "      <td>5</td>\n",
              "      <td>3</td>\n",
              "      <td>68</td>\n",
              "      <td>23</td>\n",
              "      <td>74000</td>\n",
              "      <td>1800</td>\n",
              "      <td>428978271</td>\n",
              "      <td>1</td>\n",
              "      <td>Peugeot - 107</td>\n",
              "      <td>0</td>\n",
              "      <td>2007</td>\n",
              "    </tr>\n",
              "  </tbody>\n",
              "</table>\n",
              "</div>\n",
              "      <button class=\"colab-df-convert\" onclick=\"convertToInteractive('df-d6e56aa7-496a-4abb-be4b-3de3926b999b')\"\n",
              "              title=\"Convert this dataframe to an interactive table.\"\n",
              "              style=\"display:none;\">\n",
              "        \n",
              "  <svg xmlns=\"http://www.w3.org/2000/svg\" height=\"24px\"viewBox=\"0 0 24 24\"\n",
              "       width=\"24px\">\n",
              "    <path d=\"M0 0h24v24H0V0z\" fill=\"none\"/>\n",
              "    <path d=\"M18.56 5.44l.94 2.06.94-2.06 2.06-.94-2.06-.94-.94-2.06-.94 2.06-2.06.94zm-11 1L8.5 8.5l.94-2.06 2.06-.94-2.06-.94L8.5 2.5l-.94 2.06-2.06.94zm10 10l.94 2.06.94-2.06 2.06-.94-2.06-.94-.94-2.06-.94 2.06-2.06.94z\"/><path d=\"M17.41 7.96l-1.37-1.37c-.4-.4-.92-.59-1.43-.59-.52 0-1.04.2-1.43.59L10.3 9.45l-7.72 7.72c-.78.78-.78 2.05 0 2.83L4 21.41c.39.39.9.59 1.41.59.51 0 1.02-.2 1.41-.59l7.78-7.78 2.81-2.81c.8-.78.8-2.07 0-2.86zM5.41 20L4 18.59l7.72-7.72 1.47 1.35L5.41 20z\"/>\n",
              "  </svg>\n",
              "      </button>\n",
              "      \n",
              "  <style>\n",
              "    .colab-df-container {\n",
              "      display:flex;\n",
              "      flex-wrap:wrap;\n",
              "      gap: 12px;\n",
              "    }\n",
              "\n",
              "    .colab-df-convert {\n",
              "      background-color: #E8F0FE;\n",
              "      border: none;\n",
              "      border-radius: 50%;\n",
              "      cursor: pointer;\n",
              "      display: none;\n",
              "      fill: #1967D2;\n",
              "      height: 32px;\n",
              "      padding: 0 0 0 0;\n",
              "      width: 32px;\n",
              "    }\n",
              "\n",
              "    .colab-df-convert:hover {\n",
              "      background-color: #E2EBFA;\n",
              "      box-shadow: 0px 1px 2px rgba(60, 64, 67, 0.3), 0px 1px 3px 1px rgba(60, 64, 67, 0.15);\n",
              "      fill: #174EA6;\n",
              "    }\n",
              "\n",
              "    [theme=dark] .colab-df-convert {\n",
              "      background-color: #3B4455;\n",
              "      fill: #D2E3FC;\n",
              "    }\n",
              "\n",
              "    [theme=dark] .colab-df-convert:hover {\n",
              "      background-color: #434B5C;\n",
              "      box-shadow: 0px 1px 3px 1px rgba(0, 0, 0, 0.15);\n",
              "      filter: drop-shadow(0px 1px 2px rgba(0, 0, 0, 0.3));\n",
              "      fill: #FFFFFF;\n",
              "    }\n",
              "  </style>\n",
              "\n",
              "      <script>\n",
              "        const buttonEl =\n",
              "          document.querySelector('#df-d6e56aa7-496a-4abb-be4b-3de3926b999b button.colab-df-convert');\n",
              "        buttonEl.style.display =\n",
              "          google.colab.kernel.accessAllowed ? 'block' : 'none';\n",
              "\n",
              "        async function convertToInteractive(key) {\n",
              "          const element = document.querySelector('#df-d6e56aa7-496a-4abb-be4b-3de3926b999b');\n",
              "          const dataTable =\n",
              "            await google.colab.kernel.invokeFunction('convertToInteractive',\n",
              "                                                     [key], {});\n",
              "          if (!dataTable) return;\n",
              "\n",
              "          const docLinkHtml = 'Like what you see? Visit the ' +\n",
              "            '<a target=\"_blank\" href=https://colab.research.google.com/notebooks/data_table.ipynb>data table notebook</a>'\n",
              "            + ' to learn more about interactive tables.';\n",
              "          element.innerHTML = '';\n",
              "          dataTable['output_type'] = 'display_data';\n",
              "          await google.colab.output.renderOutput(dataTable, element);\n",
              "          const docLink = document.createElement('div');\n",
              "          docLink.innerHTML = docLinkHtml;\n",
              "          element.appendChild(docLink);\n",
              "        }\n",
              "      </script>\n",
              "    </div>\n",
              "  </div>\n",
              "  "
            ]
          },
          "metadata": {},
          "execution_count": 219
        }
      ]
    },
    {
      "cell_type": "markdown",
      "source": [
        "Splitting the data and target"
      ],
      "metadata": {
        "id": "nAcmmjBdVmZ3"
      }
    },
    {
      "cell_type": "code",
      "source": [
        "X = car_dataset.drop(['title','price','location','ref_num'],axis=1)\n",
        "Y = car_dataset['price']"
      ],
      "metadata": {
        "id": "aoRALps7VlP4"
      },
      "execution_count": null,
      "outputs": []
    },
    {
      "cell_type": "code",
      "source": [
        "print(X)"
      ],
      "metadata": {
        "colab": {
          "base_uri": "https://localhost:8080/"
        },
        "id": "JjNkiFC8WSxw",
        "outputId": "642dd75d-5900-42ec-f120-98263395e07f"
      },
      "execution_count": null,
      "outputs": [
        {
          "output_type": "stream",
          "name": "stdout",
          "text": [
            "      door_num  fuel_type   hp  mileage  seller  transmission  year\n",
            "0            5          3   60   170000       0             0  2000\n",
            "1            5          5  108    14950       0             1  2020\n",
            "2            5          1  165   260000       0             0  2012\n",
            "3            5          1  313   235000       1             1  2013\n",
            "4            5          3   68    74000       1             0  2007\n",
            "...        ...        ...  ...      ...     ...           ...   ...\n",
            "6484         5          1  165   141608       0             1  2016\n",
            "6485         3          1   90   110000       0             0  2011\n",
            "6486         5          1  115    72997       0             0  2018\n",
            "6487         5          1  190   136000       0             1  2007\n",
            "6488         5          1  150    51338       0             0  2017\n",
            "\n",
            "[6489 rows x 7 columns]\n"
          ]
        }
      ]
    },
    {
      "cell_type": "code",
      "source": [
        "print(Y)"
      ],
      "metadata": {
        "colab": {
          "base_uri": "https://localhost:8080/"
        },
        "id": "ZGX6w9aBWekW",
        "outputId": "a1175daa-303e-4828-cb1f-4e29947eecdc"
      },
      "execution_count": null,
      "outputs": [
        {
          "output_type": "stream",
          "name": "stdout",
          "text": [
            "0        1450\n",
            "1       23390\n",
            "2        8990\n",
            "3       21900\n",
            "4        1800\n",
            "        ...  \n",
            "6484     9350\n",
            "6485     5999\n",
            "6486    19390\n",
            "6487    13250\n",
            "6488    24500\n",
            "Name: price, Length: 6489, dtype: int64\n"
          ]
        }
      ]
    },
    {
      "cell_type": "markdown",
      "source": [
        "splitting training an  test data"
      ],
      "metadata": {
        "id": "cgtXCQGmWmdT"
      }
    },
    {
      "cell_type": "code",
      "source": [
        "X_train, X_test, Y_train, Y_test = train_test_split(X, Y, test_size = 0.1, random_state = 2)"
      ],
      "metadata": {
        "id": "IWqwdMR9WxF9"
      },
      "execution_count": null,
      "outputs": []
    },
    {
      "cell_type": "markdown",
      "source": [
        "Model Training"
      ],
      "metadata": {
        "id": "Bw0P07DoXrVR"
      }
    },
    {
      "cell_type": "markdown",
      "source": [
        "1. Linear Regresion\n"
      ],
      "metadata": {
        "id": "I46R_ZnwXxEy"
      }
    },
    {
      "cell_type": "code",
      "source": [
        "# Loading the linnear regression model\n",
        "lin_reg_model = LinearRegression()"
      ],
      "metadata": {
        "id": "78cmHitrXqB3"
      },
      "execution_count": null,
      "outputs": []
    },
    {
      "cell_type": "code",
      "source": [
        "lin_reg_model.fit(X_train,Y_train)\n"
      ],
      "metadata": {
        "colab": {
          "base_uri": "https://localhost:8080/"
        },
        "id": "Vg5e6exqYBy5",
        "outputId": "5de1c5be-bbf7-4c53-fc59-1c85754e50a3"
      },
      "execution_count": null,
      "outputs": [
        {
          "output_type": "execute_result",
          "data": {
            "text/plain": [
              "LinearRegression()"
            ]
          },
          "metadata": {},
          "execution_count": 225
        }
      ]
    },
    {
      "cell_type": "markdown",
      "source": [
        "Model Evaluation"
      ],
      "metadata": {
        "id": "IHF8DODm6OwV"
      }
    },
    {
      "cell_type": "code",
      "source": [
        "# predict on training data \n",
        "training_data_prediction =  lin_reg_model.predict(X_train)"
      ],
      "metadata": {
        "id": "-PJs_gxU5Ceu"
      },
      "execution_count": null,
      "outputs": []
    },
    {
      "cell_type": "code",
      "source": [
        "#  R square error\n",
        "error_score = metrics.r2_score(Y_train,training_data_prediction)\n",
        "print(\"R score error:\",error_score)"
      ],
      "metadata": {
        "colab": {
          "base_uri": "https://localhost:8080/"
        },
        "id": "PkCJB-r969cv",
        "outputId": "9bbcf3e0-b323-485e-f775-d9f6d5efafa1"
      },
      "execution_count": null,
      "outputs": [
        {
          "output_type": "stream",
          "name": "stdout",
          "text": [
            "R score error: 0.2372542581549829\n"
          ]
        }
      ]
    },
    {
      "cell_type": "markdown",
      "source": [
        "Visualize actual prices vs predicted prices"
      ],
      "metadata": {
        "id": "ZnPYHhCv72PI"
      }
    },
    {
      "cell_type": "code",
      "source": [
        "plt.scatter(Y_train, training_data_prediction)\n",
        "plt.xlabel('Actual price')\n",
        "plt.ylabel('Predicted price')\n",
        "plt.title('Actual vs predicted prices')\n",
        "plt.show()"
      ],
      "metadata": {
        "colab": {
          "base_uri": "https://localhost:8080/",
          "height": 295
        },
        "id": "i_sbkaot7wli",
        "outputId": "1fc97b97-64c0-4747-dd88-324c2d8d403b"
      },
      "execution_count": null,
      "outputs": [
        {
          "output_type": "display_data",
          "data": {
            "text/plain": [
              "<Figure size 432x288 with 1 Axes>"
            ],
            "image/png": "[encoded data removed]"
          },
          "metadata": {
            "needs_background": "light"
          }
        }
      ]
    },
    {
      "cell_type": "markdown",
      "source": [
        "Valores predichos por nuestra 'Machine Learning' son cercanos, asumimos que estos datos son consistentes y esta muy cerca del precio de venta original. "
      ],
      "metadata": {
        "id": "81GhZyfe8t2B"
      }
    },
    {
      "cell_type": "code",
      "source": [
        "# prediction on test data\n",
        "test_data_prediction = lin_reg_model.predict(X_test)"
      ],
      "metadata": {
        "id": "MaIrZbmz9EjH"
      },
      "execution_count": null,
      "outputs": []
    },
    {
      "cell_type": "code",
      "source": [
        "#  R square error\n",
        "error_score = metrics.r2_score(Y_test,test_data_prediction)\n",
        "print(\"R score error:\",error_score)"
      ],
      "metadata": {
        "colab": {
          "base_uri": "https://localhost:8080/"
        },
        "id": "B0D8ZS3g9OQY",
        "outputId": "6c9132c5-1c88-4c89-b9d3-063263fdc821"
      },
      "execution_count": null,
      "outputs": [
        {
          "output_type": "stream",
          "name": "stdout",
          "text": [
            "R score error: 0.31320393613194475\n"
          ]
        }
      ]
    },
    {
      "cell_type": "code",
      "source": [
        "plt.scatter(Y_test, test_data_prediction)\n",
        "plt.xlabel('Actual price')\n",
        "plt.ylabel('Predicted price')\n",
        "plt.title('Actual vs predicted prices')\n",
        "plt.show()"
      ],
      "metadata": {
        "colab": {
          "base_uri": "https://localhost:8080/",
          "height": 295
        },
        "id": "_pUcMvwk9b6R",
        "outputId": "272f472d-78cb-444b-b2f0-a8c9321945b9"
      },
      "execution_count": null,
      "outputs": [
        {
          "output_type": "display_data",
          "data": {
            "text/plain": [
              "<Figure size 432x288 with 1 Axes>"
            ],
            "image/png": "[encoded data removed]"
          },
          "metadata": {
            "needs_background": "light"
          }
        }
      ]
    },
    {
      "cell_type": "markdown",
      "source": [
        "2. Lasso Regression"
      ],
      "metadata": {
        "id": "nYPffT7wAhPY"
      }
    },
    {
      "cell_type": "code",
      "source": [
        "# Loading the Lasso  model\n",
        "lass_reg_model = Lasso()"
      ],
      "metadata": {
        "id": "flB9MZQPAnh-"
      },
      "execution_count": null,
      "outputs": []
    },
    {
      "cell_type": "code",
      "source": [
        "lass_reg_model.fit(X_train,Y_train)\n"
      ],
      "metadata": {
        "colab": {
          "base_uri": "https://localhost:8080/"
        },
        "outputId": "db77e9f6-c93c-4d5f-ab33-1b0e55bc1fb3",
        "id": "eOV0kw0VAnh_"
      },
      "execution_count": null,
      "outputs": [
        {
          "output_type": "execute_result",
          "data": {
            "text/plain": [
              "Lasso()"
            ]
          },
          "metadata": {},
          "execution_count": 238
        }
      ]
    },
    {
      "cell_type": "markdown",
      "source": [
        "Model Evaluation"
      ],
      "metadata": {
        "id": "Lk4456oNAnh_"
      }
    },
    {
      "cell_type": "code",
      "source": [
        "# predict on training data \n",
        "training_data_prediction =  lass_reg_model.predict(X_train)"
      ],
      "metadata": {
        "id": "O8kh_tSRAnh_"
      },
      "execution_count": null,
      "outputs": []
    },
    {
      "cell_type": "code",
      "source": [
        "#  R square error\n",
        "error_score = metrics.r2_score(Y_train,training_data_prediction)\n",
        "print(\"R score error:\",error_score)"
      ],
      "metadata": {
        "colab": {
          "base_uri": "https://localhost:8080/"
        },
        "outputId": "87bec5d0-f048-4ea9-c83c-8df0ddd18213",
        "id": "hDiyApJ1Anh_"
      },
      "execution_count": null,
      "outputs": [
        {
          "output_type": "stream",
          "name": "stdout",
          "text": [
            "R score error: 0.23725421982942563\n"
          ]
        }
      ]
    },
    {
      "cell_type": "code",
      "source": [
        "plt.scatter(Y_train, training_data_prediction)\n",
        "plt.xlabel('Actual price')\n",
        "plt.ylabel('Predicted price')\n",
        "plt.title('Actual vs predicted prices')\n",
        "plt.show()"
      ],
      "metadata": {
        "colab": {
          "base_uri": "https://localhost:8080/",
          "height": 295
        },
        "outputId": "c99e61cd-5bfe-4e36-fa1a-1b2f11dbb049",
        "id": "i0GxaYCIA0kD"
      },
      "execution_count": null,
      "outputs": [
        {
          "output_type": "display_data",
          "data": {
            "text/plain": [
              "<Figure size 432x288 with 1 Axes>"
            ],
            "image/png": "[encoded data removed]"
          },
          "metadata": {
            "needs_background": "light"
          }
        }
      ]
    },
    {
      "cell_type": "code",
      "source": [
        ""
      ],
      "metadata": {
        "id": "ZLgmlTccBHFy"
      },
      "execution_count": null,
      "outputs": []
    },
    {
      "cell_type": "code",
      "source": [
        "# prediction on test data\n",
        "test_data_prediction = lass_reg_model.predict(X_test)"
      ],
      "metadata": {
        "id": "KXCHx5N_BHR2"
      },
      "execution_count": null,
      "outputs": []
    },
    {
      "cell_type": "code",
      "source": [
        "#  R square error\n",
        "error_score = metrics.r2_score(Y_test,test_data_prediction)\n",
        "print(\"R score error:\",error_score)"
      ],
      "metadata": {
        "colab": {
          "base_uri": "https://localhost:8080/"
        },
        "outputId": "fbe4b648-f1cc-476c-e5f1-443f60b007f6",
        "id": "Arl0gk-8BHR3"
      },
      "execution_count": null,
      "outputs": [
        {
          "output_type": "stream",
          "name": "stdout",
          "text": [
            "R score error: 0.3132182033298697\n"
          ]
        }
      ]
    },
    {
      "cell_type": "code",
      "source": [
        "plt.scatter(Y_test, test_data_prediction)\n",
        "plt.xlabel('Actual price')\n",
        "plt.ylabel('Predicted price')\n",
        "plt.title('Actual vs predicted prices')\n",
        "plt.show()"
      ],
      "metadata": {
        "colab": {
          "base_uri": "https://localhost:8080/",
          "height": 295
        },
        "outputId": "725ccaa2-4c90-4d85-ec62-af555be63665",
        "id": "gVoQlGupBHR3"
      },
      "execution_count": null,
      "outputs": [
        {
          "output_type": "display_data",
          "data": {
            "text/plain": [
              "<Figure size 432x288 with 1 Axes>"
            ],
            "image/png": "[encoded data removed]"
          },
          "metadata": {
            "needs_background": "light"
          }
        }
      ]
    }
  ]
}